{
 "cells": [
  {
   "cell_type": "code",
   "execution_count": null,
   "metadata": {},
   "outputs": [],
   "source": [
    "#coding=utf-8\n",
    "\n",
    "import requests\n",
    "\n",
    "while True:\n",
    "    city = input(\"请输入城市，回车退出：\\n\")\n",
    "    if not city:\n",
    "        break\n",
    "    \n",
    "    try:\n",
    "        req = requests.get(\"http://wthrcdn.etouch.cn/weather_mini?city=%s\"% city)\n",
    "    except:\n",
    "        print(\"暂时查询失败，请稍后尝试\")\n",
    "        break\n",
    "\n",
    "    dic_city= req.json()\n",
    "    city_data = dic_city.get('data')\n",
    "    if city_data:\n",
    "        city_info= city_data[\"forecast\"][0]\n",
    "        print(city_info.get(\"date\"))\n",
    "        print(city_info.get(\"high\"))\n",
    "        print(city_info.get(\"low\"))\n",
    "        print(city_info.get(\"type\"))\n",
    "    else:\n",
    "        print(\"未获得\")"
   ]
  },
  {
   "cell_type": "code",
   "execution_count": null,
   "metadata": {},
   "outputs": [],
   "source": []
  },
  {
   "cell_type": "code",
   "execution_count": null,
   "metadata": {},
   "outputs": [],
   "source": []
  },
  {
   "cell_type": "code",
   "execution_count": null,
   "metadata": {},
   "outputs": [],
   "source": []
  },
  {
   "cell_type": "code",
   "execution_count": null,
   "metadata": {},
   "outputs": [],
   "source": []
  },
  {
   "cell_type": "code",
   "execution_count": null,
   "metadata": {},
   "outputs": [],
   "source": []
  },
  {
   "cell_type": "code",
   "execution_count": null,
   "metadata": {},
   "outputs": [],
   "source": []
  }
 ],
 "metadata": {
  "kernelspec": {
   "display_name": "Python 3",
   "language": "python",
   "name": "python3"
  },
  "language_info": {
   "codemirror_mode": {
    "name": "ipython",
    "version": 3
   },
   "file_extension": ".py",
   "mimetype": "text/x-python",
   "name": "python",
   "nbconvert_exporter": "python",
   "pygments_lexer": "ipython3",
   "version": "3.7.3"
  }
 },
 "nbformat": 4,
 "nbformat_minor": 2
}
