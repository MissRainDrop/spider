{
 "cells": [
  {
   "cell_type": "code",
   "execution_count": 13,
   "metadata": {},
   "outputs": [],
   "source": [
    "import requests\n",
    "import csv\n",
    "import time\n",
    "\n",
    "re = requests.get('https://api.douban.com/v2/movie/1292052?apikey=0df993c66c0c636e29ecbb5344252a4a')\n",
    "result = re.json()\n",
    "picture_url = result['image']\n",
    "image = requests.get(picture_url).content\n",
    "with open('image.jpg','wb') as f:\n",
    "    f.write(image)\n",
    "\n",
    "\n",
    "list = []\n",
    "url_list = ['https://api.douban.com/v2/movie/top250?start={}&apikey=0df993c66c0c636e29ecbb5344252a4a'.format(k) for k in range(0,250,20)]\n",
    "time.sleep(2)\n",
    "for url in url_list:  \n",
    "    re = requests.get(url).json()['subjects']\n",
    "    for i in range(len(re)):\n",
    "        movie_name = re[i]['title']\n",
    "        movie_score = re[i]['rating']['average']\n",
    "        movie_actor = []\n",
    "        for j in re[i]['casts']:\n",
    "            movie_actor.append(j['name'])\n",
    "        movie_pic = re[i]['images']['small']\n",
    "        l = [movie_name, movie_score, movie_actor, movie_pic]\n",
    "        list.append(l)\n",
    "        \n",
    "with open('movie.csv','a+',newline='') as f:\n",
    "    w = csv.writer(f)\n",
    "    w.writerow([\"电影\",\"评分\",\"主演\",\"图片\"])\n",
    "    w.writerows(list)"
   ]
  },
  {
   "cell_type": "code",
   "execution_count": null,
   "metadata": {},
   "outputs": [],
   "source": []
  }
 ],
 "metadata": {
  "kernelspec": {
   "display_name": "Python 3",
   "language": "python",
   "name": "python3"
  },
  "language_info": {
   "codemirror_mode": {
    "name": "ipython",
    "version": 3
   },
   "file_extension": ".py",
   "mimetype": "text/x-python",
   "name": "python",
   "nbconvert_exporter": "python",
   "pygments_lexer": "ipython3",
   "version": "3.7.3"
  }
 },
 "nbformat": 4,
 "nbformat_minor": 2
}
