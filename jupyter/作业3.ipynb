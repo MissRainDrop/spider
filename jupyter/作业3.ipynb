{
 "cells": [
  {
   "cell_type": "code",
   "execution_count": 1,
   "metadata": {},
   "outputs": [],
   "source": [
    "import requests\n",
    "url = 'https://weibo.com/a/hot/realtime'\n",
    "cookie = 'Ugrow-G0=cf25a00b541269674d0feadd72dce35f; SUB=_2AkMqMz6Uf8NxqwJRmP0Uym3lao13zgvEieKcb89PJRMxHRl-yT83qkM7tRB6AbMQem7j-mrZQMJ-LaxrZawkuq9WN4fS; SUBP=0033WrSXqPxfM72-Ws9jqgMF55529P9D9WWy1j4dD3kFg-yl3j3BkaO2; YF-V5-G0=8a1a69dc6ba21f1cd10b039dff0f4381'\n",
    "user_agent = 'Mozilla/5.0 (Macintosh; Intel Mac OS X 10_14_3) AppleWebKit/537.36 (KHTML, like Gecko) Chrome/76.0.3809.132 Safari/537.36'\n",
    "headers = {'Cookie':cookie,'User-Agent':user_agent}\n",
    "info = requests.get(url,headers = headers).text\n",
    "with open('weibo.html','w',encoding='utf-8')as f:\n",
    "    f.write(info)"
   ]
  },
  {
   "cell_type": "code",
   "execution_count": null,
   "metadata": {},
   "outputs": [],
   "source": []
  }
 ],
 "metadata": {
  "kernelspec": {
   "display_name": "Python 3",
   "language": "python",
   "name": "python3"
  },
  "language_info": {
   "codemirror_mode": {
    "name": "ipython",
    "version": 3
   },
   "file_extension": ".py",
   "mimetype": "text/x-python",
   "name": "python",
   "nbconvert_exporter": "python",
   "pygments_lexer": "ipython3",
   "version": "3.7.3"
  }
 },
 "nbformat": 4,
 "nbformat_minor": 2
}
